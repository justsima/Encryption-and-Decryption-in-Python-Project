{
 "cells": [
  {
   "cell_type": "code",
   "execution_count": 1,
   "id": "b427f972",
   "metadata": {},
   "outputs": [],
   "source": [
    "from math import ceil"
   ]
  },
  {
   "cell_type": "code",
   "execution_count": 2,
   "id": "7a5aa2f4",
   "metadata": {},
   "outputs": [],
   "source": [
    "class TranspositionCipher(object): \n",
    "        \n",
    "    def __init__(self, key):\n",
    "        # Set the key for the cipher\n",
    "        self.key = key\n",
    "        \n",
    "                \n",
    "    def encrypt_message(self, message):\n",
    "\n",
    "        # Convert the message to lowercase and split it into a list of characters\n",
    "        message_split = list(message.lower())\n",
    "        \n",
    "        # Determine the length of the message\n",
    "        message_length = len(message_split)\n",
    "\n",
    "        # Initialize the encrypted message as an empty string\n",
    "        message_encrypted = ''\n",
    "\n",
    "        # Determine the number of rows in the encryption grid by calculating the  \n",
    "        # ceiling value after dividing the message length by the key\n",
    "        message_ceil = ceil(message_length/self.key)\n",
    "\n",
    "        # Iterate over each cell and calculate the corresponding index in the message_split variable\n",
    "        for j in range(self.key):\n",
    "            for i in range(message_ceil):\n",
    "                index = j + i * self.key\n",
    "                # Check if the index is within the bounds of the message length\n",
    "                if index < message_length:\n",
    "                    # Add the character at the index position to the encrypted message\n",
    "                    message_encrypted += message_split[index]\n",
    "\n",
    "        # Return the encrypted message\n",
    "        return message_encrypted\n",
    "    \n",
    "    def decrypt_message(self, message):\n",
    "        \n",
    "        # Convert the message to lowercase and split it into a list of characters\n",
    "        message_split = list(message.lower())\n",
    "        \n",
    "        # Determine the length of the message\n",
    "        message_length = len(message_split)\n",
    "        \n",
    "        # Determine the number of columns in the decryption grid by calculating the \n",
    "        # ceiling value after dividing the message length by the key\n",
    "        message_ceil = ceil(message_length/self.key)\n",
    "        \n",
    "        # Calculate the number of empty (unused) cells in the grid\n",
    "        num_empty_cells = self.key*message_ceil - message_length\n",
    "        \n",
    "        # Initialize a grid for the decrypted message having as many rows as the\n",
    "        # key and as many columns as the calculated ceiling value\n",
    "        message_grid = [['' for _ in range(message_ceil)] for _ in range(self.key)]\n",
    "        \n",
    "        # Initialize the decrypted message as an empty string\n",
    "        message_decrypted = ''\n",
    "        \n",
    "        # Create an iterator for the split message\n",
    "        iterator = iter(message_split)\n",
    "\n",
    "        # Populate the decryption grid\n",
    "        # Iterate over the rows (from 0 to key-1)\n",
    "        for i in range(self.key):\n",
    "\n",
    "            # Determine the number of columns to populate\n",
    "            # If the row doesn't contain an empty cell, populate all cells from column = 0 to column = message_ceil\n",
    "            if i < self.key - num_empty_cells:\n",
    "                columns = message_ceil\n",
    "            # If the row contains an empty cell, populate all cells from column = 0 to column = message_ceil-1\n",
    "            else:\n",
    "                columns = message_ceil - 1\n",
    "\n",
    "            # Populate the row based on the number of columns calculated above\n",
    "            # The iterator keeps track of the current character\n",
    "            for j in range(columns):\n",
    "                message_grid[i][j] = next(iterator, None)\n",
    "\n",
    "        # Build the decrypted message from the grid\n",
    "        # Read the message column by column\n",
    "        for j in range(message_ceil):\n",
    "            for i in range(self.key):\n",
    "                message_decrypted += message_grid[i][j]\n",
    "\n",
    "        # Return the decrypted message\n",
    "        return message_decrypted"
   ]
  },
  {
   "cell_type": "code",
   "execution_count": 3,
   "id": "bab8a3c2",
   "metadata": {},
   "outputs": [
    {
     "data": {
      "text/plain": [
       "'learning python is fun'"
      ]
     },
     "execution_count": 3,
     "metadata": {},
     "output_type": "execute_result"
    }
   ],
   "source": [
    "cipher = TranspositionCipher(6)\n",
    "cipher.decrypt_message('Lnh egofa nurP nnyiits')"
   ]
  },
  {
   "cell_type": "markdown",
   "id": "9089974a",
   "metadata": {},
   "source": [
    "Below are encrypted quotes from the Swedish author Fredrik Backman. Which of them is encrypted with a key different from 12?\n",
    "\n",
    "Note: Treat the \\n character as a single unit, occupying just one cell in the encryption/decryption grid.\n",
    "\n",
    "\n",
    "\n",
    "\"npomhhe eeneea rvo'titbeepthr earl i tys ehnlhoot agiennrwv vyd.uheie  so nslat s  ol dottvl\"\n",
    "\n",
    "\n",
    "'naoensioanosprg tnl til  tieleheedthc yfir ohaiw fn w enzhmogfham eoar oonst  ktir yeosae.s ntl ocs pehvcmt eeviereua'\n",
    "\n",
    "\n",
    "'tto at   heubl catedtaimati   dkon mctg es teohop tbh.mioei eepndoso  lg p fbsi alt oacanehutmabd ashe'\n",
    "\n",
    "\n",
    "'asnem trhivt  taotosatihftorru .v naeu sera eogtwrm, nly f . no yelea lyeraed a biedena yrheka  driesaheriy sna ba '"
   ]
  },
  {
   "cell_type": "code",
   "execution_count": 4,
   "id": "852e1a60",
   "metadata": {},
   "outputs": [
    {
     "name": "stdout",
     "output_type": "stream",
     "text": [
      "msg: npomhhe eeneea rvo'titbeepthr earl i tys ehnlhoot agiennrwv vyd.uheie  so nslat s  ol dottvl\n",
      "msg: nopootm hahgei eenennreweva  vryvdo.'uthietibee e pstoh rn selaartl  si   toyls  deohtntlvhl\n",
      "msg: nadpr.olum hhieh iete y es e sneoeh ennals hlroavotot ' sta ig tiobelen endprotwthvtr v vley\n",
      "msg: neo peo optsmt ohha hrgne is eeleanaerntnlr e wseiv a    tvoryylvsd o .d'euothhtinettlivbhel\n",
      "msg: ntyrnpiswsot vlmbe ahehvtheny eplds th. ehou erohon telee i eaaedarg o li tr estvinovo n l't\n",
      "msg: nvrodapolt.to'  u mtiahshi ge httii ebyeeo esn lee n  epersdnthwooehnv terl nta hvsv eoyllra\n",
      "msg: n h ee prrenisov hne moenr  h'alw ohtrhvsleilo o  t ov debitynoee  dstneta.ltepyguavetsihtla\n",
      "msg: nee t   papt vs o tyayoomrhsgd lhvr i.n ho eeusde'ehnhlo tanneateirlrittetlhwe vnb ov sleeio\n",
      "msg: nebrhido peelne. ooae lnunlm pihnhs hrt oreldhvhtowiaoeorytvett ' s    tete av sveiaegys lnt\n",
      "msg: nni yorhnopetestwesloeba  vil maerea eadh elhgv tohrp niy  tevtiledsst oh hn.o ve'rtonu  let\n",
      "msg: ne'h livellpntrthey a oei yond tdmeteson.s ohaba truosth ere wh  terelhaven v vp ng isoleoti\n",
      "msg: never trust people who don't have something in their lives that they love beyond all reason.\n",
      "msg: nerb  nawust peveetlgvho donoeayhi e some'prsoevin thettl onyes thaih etnd love trih r. all \n",
      "msg: n  trih rdensdperb  naw. s ooeveetlgvu l tmnoeayhi hsaothe'prsoeveotlvhettl onyi   leaih etn\n",
      "msg: n  itrylardensdperthlshgw. s ooevbr  oivu l tmnoe ieoe hsaothe'ee htnveotlvhetpatn nyi   lea\n"
     ]
    }
   ],
   "source": [
    "text = \"npomhhe eeneea rvo'titbeepthr earl i tys ehnlhoot agiennrwv vyd.uheie  so nslat s  ol dottvl\"\n",
    "keys = [1,2,3,4,5,6,7,8,9,10,11,12,13,14,15]\n",
    "for key in keys:\n",
    "    print(f'msg: {TranspositionCipher(key).decrypt_message(text)}')"
   ]
  }
 ],
 "metadata": {
  "kernelspec": {
   "display_name": "Python 3 (ipykernel)",
   "language": "python",
   "name": "python3"
  },
  "language_info": {
   "codemirror_mode": {
    "name": "ipython",
    "version": 3
   },
   "file_extension": ".py",
   "mimetype": "text/x-python",
   "name": "python",
   "nbconvert_exporter": "python",
   "pygments_lexer": "ipython3",
   "version": "3.11.5"
  }
 },
 "nbformat": 4,
 "nbformat_minor": 5
}
