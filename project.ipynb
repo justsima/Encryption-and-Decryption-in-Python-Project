{
 "cells": [
  {
   "cell_type": "markdown",
   "metadata": {},
   "source": [
    "# Create the Constructor\n",
    "\n",
    "In this project, you are tasked to implement a Python class (call it `TranspositionCipher`) that can encrypt and decrypt a message using the transposition cipher—a simple yet effective way of encrypting a text in a way that becomes unreadable to anyone who doesn’t possess the key to decryption. It relies on scrambling the words in plaintext by rearranging its characters according to a specific algorithm.\n",
    "\n",
    "The project requires you to implement a `TranspositionCipher` class incorporating the following elements:\n",
    "\n",
    "- A constructor function that accepts the cipher's key as an argument\n",
    "- A method designated for encrypting a message requiring a single parameter—the plaintext message to be encrypted\n",
    "- A method dedicated to decrypting a message that calls for one argument—the previously encrypted message in ciphertext format\n",
    "\n",
    "**Optional:** As an additional challenge—not required for completing the project—you can implement a function outside the `TranspositionCipher` class, which hacks the columnar transposition cipher, i.e., it decrypts a ciphertext without knowing the key. The function should return the decrypted message and the key."
   ]
  },
  {
   "cell_type": "code",
   "execution_count": 8,
   "metadata": {},
   "outputs": [],
   "source": [
    "import math\n",
    "\n",
    "class TranspositionCipher:\n",
    "    def __init__(self, key):\n",
    "        self.key = key\n",
    "\n",
    "    def encrypt_message(self, message):\n",
    "        self.message = message\n",
    "        ciphertext = [''] * self.key\n",
    "        message_length = len(message)\n",
    "\n",
    "        for j in range(self.key):\n",
    "            for i in range(math.ceil(message_length / self.key)):\n",
    "                index = i * self.key + j\n",
    "                if index < message_length:\n",
    "                    ciphertext[j] += message[index]\n",
    "        return ''.join(ciphertext)\n",
    "\n",
    "    def decrypt_message(self, message):\n",
    "            # Store each character in a list\n",
    "        message_split = list(message)\n",
    "            \n",
    "            # Compute the total length of the message\n",
    "        message_length = len(message)\n",
    "            \n",
    "            # Calculate the ceiling value of the ratio of the message length to the key size\n",
    "        message_ceil = math.ceil(message_length / self.key)\n",
    "            \n",
    "            # Calculate the number of empty cells in the decryption grid\n",
    "        num_empty_cells = self.key * message_ceil - message_length\n",
    "            \n",
    "            # Initialize a 2D grid with empty strings\n",
    "        message_grid = [[''] * message_ceil for _ in range(self.key)]\n",
    "            \n",
    "            # Initialize an empty string for the decrypted message\n",
    "        message_decrypted = ''\n",
    "            \n",
    "            # Declare an iterator object from the list of characters\n",
    "        iterator = iter(message_split)\n",
    "            \n",
    "            # Construct nested for-loops for filling in the grid\n",
    "        for col in range(message_ceil):\n",
    "            for row in range(self.key):\n",
    "                if row * message_ceil + col < message_length:\n",
    "                        message_grid[row][col] = next(iterator)\n",
    "            \n",
    "            # Construct nested for-loops for decrypting the message\n",
    "        for col in range(message_ceil):\n",
    "            for row in range(self.key):\n",
    "                if row * message_ceil + col < message_length:\n",
    "                        message_decrypted += message_grid[row][col]\n",
    "            \n",
    "            # Return the decrypted message\n",
    "        return message_decrypted"
   ]
  },
  {
   "cell_type": "code",
   "execution_count": 11,
   "metadata": {},
   "outputs": [
    {
     "name": "stdout",
     "output_type": "stream",
     "text": [
      "Key: 5, Message: icilehd  oy ganoasitasiv  sqcolhldultd'ltdetoouiuo w siiosiionhfmio uyap\n",
      "fcc fcc e etusdoyrsreisreit itesa useuaxouaxohsth \n",
      "ye' cpgpupgpuoo iai nlsoeiiseiisuuintfiolocrlarla\n",
      "gnsgr tu uicil\n",
      "Key: 6, Message: icilehd  oy ganoasitasiv  sqcolhldultd'ltdetoouiuo w siiosiionhfmio uyap\n",
      "fcc fcc e etusdoyrsreisreit itesa useuaxouaxohsth \n",
      "ye' cpgpupgpuoo iai nlsoeiiseiisuuintfiolocrlarla\n",
      "gnsgr tu uicil\n",
      "Key: 7, Message: icilehd  oy ganoasitasiv  sqcolhldultd'ltdetoouiuo w siiosiionhfmio uyap\n",
      "fcc fcc e etusdoyrsreisreit itesa useuaxouaxohsth \n",
      "ye' cpgpupgpuoo iai nlsoeiiseiisuuintfiolocrlarla\n",
      "gnsgr tu uicil\n",
      "Key: 8, Message: icilehd  oy ganoasitasiv  sqcolhldultd'ltdetoouiuo w siiosiionhfmio uyap\n",
      "fcc fcc e etusdoyrsreisreit itesa useuaxouaxohsth \n",
      "ye' cpgpupgpuoo iai nlsoeiiseiisuuintfiolocrlarla\n",
      "gnsgr tu uicil\n",
      "Key: 9, Message: icilehd  oy ganoasitasiv  sqcolhldultd'ltdetoouiuo w siiosiionhfmio uyap\n",
      "fcc fcc e etusdoyrsreisreit itesa useuaxouaxohsth \n",
      "ye' cpgpupgpuoo iai nlsoeiiseiisuuintfiolocrlarla\n",
      "gnsgr tu uicil\n",
      "Key: 10, Message: icilehd  oy ganoasitasiv  sqcolhldultd'ltdetoouiuo w siiosiionhfmio uyap\n",
      "fcc fcc e etusdoyrsreisreit itesa useuaxouaxohsth \n",
      "ye' cpgpupgpuoo iai nlsoeiiseiisuuintfiolocrlarla\n",
      "gnsgr tu uicil\n"
     ]
    }
   ],
   "source": [
    "keys = [5, 6, 7, 8, 9, 10]  # Replace with the actual keys you have\n",
    "message = \"icilehd  oy ganoasitasiv  sqcolhldultd'ltdetoouiuo w siiosiionhfmio uyap\\nfcc fcc e etusdoyrsreisreit itesa useuaxouaxohsth \\nye' cpgpupgpuoo iai nlsoeiiseiisuuintfiolocrlarla\\ngnsgr tu uicil\"\n",
    "\n",
    "for key in keys:\n",
    "    cipher = TranspositionCipher(key)\n",
    "    decrypted_message = cipher.decrypt_message(message)\n",
    "    print(f\"Key: {key}, Message: {decrypted_message}\")"
   ]
  },
  {
   "cell_type": "code",
   "execution_count": 16,
   "metadata": {},
   "outputs": [
    {
     "name": "stdout",
     "output_type": "stream",
     "text": [
      "Ishrhpt e lhoice  fy t doeoiee etdg so eene seduahmralerchdhh  b h larnxnhsh,lwhmw etdc ssdsree   ’e  eidmyweumnw cti e iho hwneoae dso. tids st meo h seeahi sh dtittealrnt aeeu whno whhwsevtit.sdrita ahrtc hnsyef w rdgTar cvhoaaepehco   dsenedayehfe   setos  hhsittoiwtslldahlHlf  mdy r r rmhkit\n"
     ]
    }
   ],
   "source": [
    "text =\"I confess at these words a shudder passed through me. There was a thrill in the doctor’s voice which showed that he was himself deeply moved by that which he told us. Holmes leaned forward in his excitement and his eyes had the hard, dry glitter which shot from them when he was keenly interested\"\n",
    "keys= 7\n",
    "decrypted = TranspositionCipher(keys).encrypt_message(text)\n",
    "print(decrypted)"
   ]
  },
  {
   "cell_type": "code",
   "execution_count": 23,
   "metadata": {},
   "outputs": [
    {
     "name": "stdout",
     "output_type": "stream",
     "text": [
      "iosertonethmseasdeaihirn cninme,ayeox;ao  n   rsest sedm en v sti tvtpeatss  tiop  es sgid  sw ehltnht tdoofaat.\n"
     ]
    }
   ],
   "source": [
    "text =\"iosertonethmseasdeaihirn cninme,ayeox;ao  n   rsest sedm en v sti tvtpeatss  tiop  es sgid  sw ehltnht tdoofaat.\"\n",
    "keys= 9\n",
    "decrypted = TranspositionCipher(8).decrypt_message(text)\n",
    "print(decrypted)"
   ]
  },
  {
   "cell_type": "code",
   "execution_count": null,
   "metadata": {},
   "outputs": [],
   "source": []
  }
 ],
 "metadata": {
  "kernelspec": {
   "display_name": "Python 3",
   "language": "python",
   "name": "python3"
  },
  "language_info": {
   "codemirror_mode": {
    "name": "ipython",
    "version": 3
   },
   "file_extension": ".py",
   "mimetype": "text/x-python",
   "name": "python",
   "nbconvert_exporter": "python",
   "pygments_lexer": "ipython3",
   "version": "3.10.11"
  }
 },
 "nbformat": 4,
 "nbformat_minor": 2
}
