{
 "cells": [
  {
   "cell_type": "markdown",
   "id": "0e1d7960-2763-40b0-88b4-6bc4a6f663f2",
   "metadata": {},
   "source": [
    "# Caesar Cypher"
   ]
  },
  {
   "cell_type": "code",
   "execution_count": 1,
   "id": "c73c144c-e7e0-4d17-bd92-b5a9013d56d8",
   "metadata": {
    "tags": []
   },
   "outputs": [],
   "source": [
    "alphabet = 'abcdefghijklmnopqrstuvwxyz'"
   ]
  },
  {
   "cell_type": "code",
   "execution_count": 2,
   "id": "e13cbaeb-f4a2-4203-9739-e4850bacfecc",
   "metadata": {
    "tags": []
   },
   "outputs": [],
   "source": [
    "input_text='hello'"
   ]
  },
  {
   "cell_type": "markdown",
   "id": "51742008-0e13-4bd5-a27f-9d82109cca8b",
   "metadata": {},
   "source": [
    "## Build a very simple version "
   ]
  },
  {
   "cell_type": "code",
   "execution_count": 3,
   "id": "a074ee0c-481c-4d59-aa44-8482b3128bb7",
   "metadata": {
    "tags": []
   },
   "outputs": [
    {
     "name": "stdout",
     "output_type": "stream",
     "text": [
      "khoor\n"
     ]
    }
   ],
   "source": [
    "output = ''\n",
    "for char in input_text:\n",
    "    alpha_index=alphabet.find(char)\n",
    "    output=output+alphabet[alpha_index+3]\n",
    "print(output)"
   ]
  },
  {
   "cell_type": "code",
   "execution_count": 4,
   "id": "8ad3a911-3cee-4329-8a55-4778d4c3152d",
   "metadata": {
    "tags": []
   },
   "outputs": [],
   "source": [
    "def shift_amount(i):\n",
    "    return i%26"
   ]
  },
  {
   "cell_type": "code",
   "execution_count": 5,
   "id": "ce603e1a-2b85-4e2e-9a07-8ae841423f84",
   "metadata": {
    "tags": []
   },
   "outputs": [],
   "source": [
    "def encrypt(text,shift):\n",
    "    out_string= ''\n",
    "    text=text.lower()\n",
    "    for char in text:\n",
    "        if char not in alphabet:\n",
    "            out_string = out_string + char\n",
    "        else:\n",
    "            alpha_index = alphabet.find(char)\n",
    "            out_string = out_string +alphabet[shift_amount(alpha_index + shift)]\n",
    "    return out_string"
   ]
  },
  {
   "cell_type": "code",
   "execution_count": 6,
   "id": "446168e8-4112-4410-89f9-6e63365d472c",
   "metadata": {
    "tags": []
   },
   "outputs": [
    {
     "name": "stdout",
     "output_type": "stream",
     "text": [
      "uif dbu tju po uif nbu\n"
     ]
    }
   ],
   "source": [
    "basker= '''the cat sit on the mat'''\n",
    "encrypted =  encrypt(basker,1)\n",
    "print(encrypted)"
   ]
  },
  {
   "cell_type": "code",
   "execution_count": 7,
   "id": "1934bfc5-caa8-4172-bfe0-f1458a70ace6",
   "metadata": {
    "tags": []
   },
   "outputs": [
    {
     "name": "stdout",
     "output_type": "stream",
     "text": [
      "the cat sit on the mat\n"
     ]
    }
   ],
   "source": [
    "decrypt = encrypt(encrypted,-1)\n",
    "print(decrypt)"
   ]
  },
  {
   "cell_type": "code",
   "execution_count": null,
   "id": "18011364-44c6-491b-bf69-8d1decc30b7c",
   "metadata": {},
   "outputs": [],
   "source": []
  }
 ],
 "metadata": {
  "kernelspec": {
   "display_name": "Python 3 (ipykernel)",
   "language": "python",
   "name": "python3"
  },
  "language_info": {
   "codemirror_mode": {
    "name": "ipython",
    "version": 3
   },
   "file_extension": ".py",
   "mimetype": "text/x-python",
   "name": "python",
   "nbconvert_exporter": "python",
   "pygments_lexer": "ipython3",
   "version": "3.11.5"
  }
 },
 "nbformat": 4,
 "nbformat_minor": 5
}
